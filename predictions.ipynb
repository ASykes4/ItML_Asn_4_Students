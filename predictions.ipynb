{
 "cells": [
  {
   "attachments": {},
   "cell_type": "markdown",
   "metadata": {},
   "source": [
    "## Predictions"
   ]
  },
  {
   "cell_type": "code",
   "execution_count": 18,
   "metadata": {},
   "outputs": [],
   "source": [
    "import numpy as np\n",
    "import pandas as pd\n",
    "import tensorflow as tf\n",
    "import geopandas as gpd\n",
    "import seaborn as sns\n",
    "import matplotlib.pyplot as plt\n",
    "import datetime as dt\n",
    "from sklearn.metrics import confusion_matrix\n",
    "from sklearn.preprocessing import StandardScaler\n",
    "import tensorflow as tf"
   ]
  },
  {
   "cell_type": "code",
   "execution_count": 19,
   "metadata": {},
   "outputs": [],
   "source": [
    "# helper function for plotting the confusion matrix\n",
    "def plot_cm(labels, predictions, p=0.5):\n",
    "  cm = confusion_matrix(labels, predictions > p)\n",
    "  plt.figure(figsize=(5,5))\n",
    "  sns.heatmap(cm, annot=True, fmt=\"d\")\n",
    "  plt.title('Confusion matrix @{:.2f}'.format(p))\n",
    "  plt.ylabel('Actual label')\n",
    "  plt.xlabel('Predicted label')\n",
    "\n",
    "  print('Legitimate Transactions Detected (True Negatives): ', cm[0][0])\n",
    "  print('Legitimate Transactions Incorrectly Detected (False Positives): ', cm[0][1])\n",
    "  print('Fraudulent Transactions Missed (False Negatives): ', cm[1][0])\n",
    "  print('Fraudulent Transactions Detected (True Positives): ', cm[1][1])\n",
    "  print('Total Fraudulent Transactions: ', np.sum(cm[1]))"
   ]
  },
  {
   "cell_type": "code",
   "execution_count": 20,
   "metadata": {},
   "outputs": [],
   "source": [
    "# Function that takes in a string and loads in a csv based on that string, loads in a premade model which predicts fraud\n",
    "# Returns a confusion matrix of the \n",
    "def predictionModel(url):\n",
    "\n",
    "    model = tf.keras.models.load_model('FraudModel')\n",
    "    df = pd.read_csv(url)\n",
    "\n",
    "    latlong = gpd.GeoDataFrame(df[['lat','long']], geometry=gpd.points_from_xy(df['lat'], df['long']))\n",
    "    merchlatlong = gpd.GeoDataFrame(df[['merch_lat','merch_long']], geometry=gpd.points_from_xy(df['merch_lat'], df['merch_long']))\n",
    "    df['distance'] = latlong['geometry'].distance(merchlatlong['geometry'],align=True)\n",
    "\n",
    "    df['trans_date_trans_time'] = df['trans_date_trans_time'].apply(lambda x: dt.datetime.fromisoformat(str(x)))\n",
    "    df['dob'] = df['dob'].apply(lambda x: dt.datetime.fromisoformat(str(x)))\n",
    "    df['age'] = df['trans_date_trans_time'] - df['dob']\n",
    "    df['age'] = df['age'].apply(lambda x: x.days//365)\n",
    "\n",
    "    df.pop('trans_date_trans_time')\n",
    "    df.pop('dob')\n",
    "    df.pop('job')\n",
    "    df.pop('trans_num')\n",
    "    df.pop('merchant')\n",
    "    df.pop('first')\n",
    "    df.pop('last')\n",
    "    df.pop('gender')\n",
    "    df.pop('street')\n",
    "    df.pop('city')\n",
    "    df.pop('state')\n",
    "    df.drop(columns={\"Unnamed: 0\"}, inplace=True)\n",
    "    df = pd.get_dummies(df, drop_first=True)\n",
    "\n",
    "    # Form np arrays of labels and features.\n",
    "    test_labels = np.array(df.pop('is_fraud'))\n",
    "    test_features = np.array(df)\n",
    "\n",
    "    scale = StandardScaler()\n",
    "    test_features = scale.fit_transform(test_features)\n",
    "\n",
    "    print('Test labels shape:', test_labels.shape)\n",
    "    print('Test features shape:', test_features.shape)\n",
    "\n",
    "    BATCH_SIZE = 2048\n",
    "    model.summary()\n",
    "\n",
    "    test_predictions_baseline = model.predict(test_features, batch_size=BATCH_SIZE)\n",
    "    baseline_results = model.evaluate(test_features, test_labels,batch_size=BATCH_SIZE, verbose=0)\n",
    "\n",
    "    for name, value in zip(model.metrics_names, baseline_results):\n",
    "        print(name, ': ', value)\n",
    "    plot_cm(test_labels, test_predictions_baseline)"
   ]
  },
  {
   "cell_type": "code",
   "execution_count": 21,
   "metadata": {},
   "outputs": [
    {
     "name": "stdout",
     "output_type": "stream",
     "text": [
      "Test labels shape: (1296675,)\n",
      "Test features shape: (1296675, 24)\n",
      "Model: \"sequential\"\n",
      "_________________________________________________________________\n",
      " Layer (type)                Output Shape              Param #   \n",
      "=================================================================\n",
      " dense (Dense)               (None, 72)                1800      \n",
      "                                                                 \n",
      " dropout (Dropout)           (None, 72)                0         \n",
      "                                                                 \n",
      " dense_1 (Dense)             (None, 36)                2628      \n",
      "                                                                 \n",
      " dropout_1 (Dropout)         (None, 36)                0         \n",
      "                                                                 \n",
      " dense_2 (Dense)             (None, 1)                 37        \n",
      "                                                                 \n",
      "=================================================================\n",
      "Total params: 4,465\n",
      "Trainable params: 4,465\n",
      "Non-trainable params: 0\n",
      "_________________________________________________________________\n",
      "634/634 [==============================] - 1s 890us/step\n",
      "loss :  0.008949466980993748\n",
      "tp :  5062.0\n",
      "fp :  1099.0\n",
      "tn :  1288070.0\n",
      "fn :  2444.0\n",
      "accuracy :  0.9972676038742065\n",
      "precision :  0.8216198682785034\n",
      "recall :  0.6743938326835632\n",
      "auc :  0.9693904519081116\n",
      "prc :  0.7971771359443665\n",
      "Legitimate Transactions Detected (True Negatives):  1288070\n",
      "Legitimate Transactions Incorrectly Detected (False Positives):  1099\n",
      "Fraudulent Transactions Missed (False Negatives):  2444\n",
      "Fraudulent Transactions Detected (True Positives):  5062\n",
      "Total Fraudulent Transactions:  7506\n"
     ]
    },
    {
     "data": {
      "image/png": "[encoded data removed]",
      "text/plain": [
       "<Figure size 360x360 with 2 Axes>"
      ]
     },
     "metadata": {
      "needs_background": "light"
     },
     "output_type": "display_data"
    }
   ],
   "source": [
    "#replace the string passed into the function with the location of your data\n",
    "predictionModel('https://jrssbcrsefilesnait.blob.core.windows.net/3950data1/fraudTrain.csv.zip')"
   ]
  },
  {
   "attachments": {},
   "cell_type": "markdown",
   "metadata": {},
   "source": [
    "I pretty much followed the link in the assignment for much of the work. I attempted to use the keras tuner, but it didn't seem to help all that much. For the imbalance in the data, I calculated an output layer bias to use for the model, which was Log(Positive/Negative). I also increased the class weights for the positive class, ending up with a 100:1 boost. For the latitude and longitude, I calculated the distance from the merchant to their home location, as a higher than normal distance would likely indicate fraud. For the age of the theoretical person using the credit card, as it could be a fraud indicator with what purchases the card is making. \n",
    "\n",
    "For network structure, I used two dense layers, each with 5 times the amount of expected inputs, then a dropout layer dropping 20%, then two more dense layers at half of the neurons in the first dense layers, followed by another dropout layer, and finally a single output neuron using a sigmoid activation function. I feature selected out most of the string information from the original data, like street, name, state, and so on. I also used a standard scaler to scale the numeric values, which helped the recall greatly. I used the two dropout layers to avoid overfitting the data."
   ]
  }
 ],
 "metadata": {
  "kernelspec": {
   "display_name": "base",
   "language": "python",
   "name": "python3"
  },
  "language_info": {
   "codemirror_mode": {
    "name": "ipython",
    "version": 3
   },
   "file_extension": ".py",
   "mimetype": "text/x-python",
   "name": "python",
   "nbconvert_exporter": "python",
   "pygments_lexer": "ipython3",
   "version": "3.9.12"
  },
  "orig_nbformat": 4
 },
 "nbformat": 4,
 "nbformat_minor": 2
}
